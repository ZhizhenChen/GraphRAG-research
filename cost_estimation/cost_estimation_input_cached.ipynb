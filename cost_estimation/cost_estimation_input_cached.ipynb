{
 "cells": [
  {
   "cell_type": "code",
   "execution_count": null,
   "id": "04824075-3aab-43c6-975e-3e6e1f7e1254",
   "metadata": {},
   "outputs": [
    {
     "ename": "",
     "evalue": "",
     "output_type": "error",
     "traceback": [
      "\u001b[1;31mThe kernel failed to start as '/Library/Frameworks/Python.framework/Versions/3.12/lib/python3.12/site-packages/psutil/_psutil_osx.abi3.so' could not be imported from '/Library/Frameworks/Python.framework/Versions/3.12/lib/python3.12/site-packages/psutil/_psutil_osx.abi3.so, 0x0002'.\n",
      "\u001b[1;31mClick <a href='https://aka.ms/kernelFailuresModuleImportErrFromFile'>here</a> for more info."
     ]
    }
   ],
   "source": [
    "import json\n",
    "\n",
    "import lightrag\n",
    "\n",
    "\n",
    "import tiktoken"
   ]
  },
  {
   "cell_type": "code",
   "execution_count": 74,
   "id": "08ad12a7-22f1-475e-8c3c-5ccf833aeb1d",
   "metadata": {},
   "outputs": [],
   "source": [
    "with open(\"Datasets/Corpus/novel.json\", \"r\") as f:\n",
    "    str_ = f.read()\n",
    "    json_ = json.loads(str_)"
   ]
  },
  {
   "cell_type": "code",
   "execution_count": 75,
   "id": "7f0adb66",
   "metadata": {},
   "outputs": [
    {
     "data": {
      "text/plain": [
       "1036894"
      ]
     },
     "execution_count": 75,
     "metadata": {},
     "output_type": "execute_result"
    }
   ],
   "source": [
    "novel_text = \"\"\n",
    "for idx in json_[:4]:\n",
    "    novel_text += idx[\"context\"]\n",
    "\n",
    "len(novel_text)"
   ]
  },
  {
   "cell_type": "code",
   "execution_count": 76,
   "id": "189c5cd5-0e53-44f4-af8e-eecb9db93bcf",
   "metadata": {},
   "outputs": [],
   "source": [
    "enc = tiktoken.get_encoding(\"o200k_base\")"
   ]
  },
  {
   "cell_type": "code",
   "execution_count": 78,
   "id": "08d64a58-8a2a-4312-942d-1a0ab1bf6640",
   "metadata": {},
   "outputs": [
    {
     "data": {
      "text/plain": [
       "227309"
      ]
     },
     "execution_count": 78,
     "metadata": {},
     "output_type": "execute_result"
    }
   ],
   "source": [
    "novel_tokens = len(enc.encode(novel_text))\n",
    "novel_tokens"
   ]
  },
  {
   "cell_type": "code",
   "execution_count": 79,
   "id": "8c5a263b-d0fa-45e9-8341-f0dec4ce0651",
   "metadata": {},
   "outputs": [],
   "source": [
    "import math\n",
    "chunk_size = 1200\n",
    "overlap = 100\n",
    "step = chunk_size - overlap\n",
    "novel_chunks = max(1, math.ceil(novel_tokens / step))"
   ]
  },
  {
   "cell_type": "code",
   "execution_count": 80,
   "id": "dcbcddb1-8893-4b05-b727-3134f73d2899",
   "metadata": {},
   "outputs": [
    {
     "data": {
      "text/plain": [
       "207"
      ]
     },
     "execution_count": 80,
     "metadata": {},
     "output_type": "execute_result"
    }
   ],
   "source": [
    "novel_chunks "
   ]
  },
  {
   "cell_type": "code",
   "execution_count": 4,
   "id": "e84dae4a-cd16-4436-a624-c3c91183ef2a",
   "metadata": {},
   "outputs": [
    {
     "ename": "NameError",
     "evalue": "name 'lightrag' is not defined",
     "output_type": "error",
     "traceback": [
      "\u001b[31m---------------------------------------------------------------------------\u001b[39m",
      "\u001b[31mNameError\u001b[39m                                 Traceback (most recent call last)",
      "\u001b[36mCell\u001b[39m\u001b[36m \u001b[39m\u001b[32mIn[4]\u001b[39m\u001b[32m, line 2\u001b[39m\n\u001b[32m      1\u001b[39m \u001b[38;5;66;03m# tokens for lightrag prompts\u001b[39;00m\n\u001b[32m----> \u001b[39m\u001b[32m2\u001b[39m prompt_counts = {k: \u001b[38;5;28mlen\u001b[39m(enc.encode(\u001b[38;5;28mstr\u001b[39m(v))) \u001b[38;5;28;01mfor\u001b[39;00m k, v \u001b[38;5;129;01min\u001b[39;00m \u001b[43mlightrag\u001b[49m.prompt.PROMPTS.items()}\n",
      "\u001b[31mNameError\u001b[39m: name 'lightrag' is not defined"
     ]
    }
   ],
   "source": [
    "# tokens for lightrag prompts\n",
    "prompt_counts = {k: len(enc.encode(str(v))) for k, v in lightrag.prompt.PROMPTS.items()}"
   ]
  },
  {
   "cell_type": "code",
   "execution_count": 12,
   "id": "419a0ad8-2083-4bf5-b6c7-0e4d82090e9e",
   "metadata": {},
   "outputs": [
    {
     "data": {
      "text/plain": [
       "{'DEFAULT_TUPLE_DELIMITER': 5,\n",
       " 'DEFAULT_COMPLETION_DELIMITER': 6,\n",
       " 'entity_extraction_system_prompt': 1110,\n",
       " 'entity_extraction_user_prompt': 174,\n",
       " 'entity_continue_extraction_user_prompt': 394,\n",
       " 'entity_extraction_examples': 1892,\n",
       " 'summarize_entity_descriptions': 461,\n",
       " 'fail_response': 16,\n",
       " 'rag_response': 567,\n",
       " 'naive_rag_response': 559,\n",
       " 'kg_query_context': 91,\n",
       " 'naive_query_context': 61,\n",
       " 'keywords_extraction': 370,\n",
       " 'keywords_extraction_examples': 242}"
      ]
     },
     "execution_count": 12,
     "metadata": {},
     "output_type": "execute_result"
    }
   ],
   "source": [
    "prompt_counts"
   ]
  },
  {
   "cell_type": "code",
   "execution_count": null,
   "id": "d4f6caf1-895e-4d3e-b757-a039729515aa",
   "metadata": {},
   "outputs": [],
   "source": [
    "entity_prompt_tokens = prompt_counts[\"entity_extraction_system_prompt\"] \n",
    "+ prompt_counts[\"entity_extraction_examples\"] "
   ]
  },
  {
   "cell_type": "code",
   "execution_count": null,
   "id": "dd19b32b",
   "metadata": {},
   "outputs": [],
   "source": [
    "user_prompt_input_tokens = prompt_counts[\"entity_extraction_user_prompt_input\"] + prompt_counts[\"entity_continue_extraction_user_prompt\"]"
   ]
  },
  {
   "cell_type": "code",
   "execution_count": null,
   "id": "ae16fd31-b6c5-4ba6-a4fb-55172df217af",
   "metadata": {},
   "outputs": [],
   "source": [
    "input_tokens = novel_tokens\n",
    "entity_prompt_tokens = 1110+1892\n",
    "cached_tokens = entity_prompt_tokens * novel_chunks"
   ]
  },
  {
   "cell_type": "code",
   "execution_count": 68,
   "id": "349d809b",
   "metadata": {},
   "outputs": [
    {
     "data": {
      "text/plain": [
       "3050032"
      ]
     },
     "execution_count": 68,
     "metadata": {},
     "output_type": "execute_result"
    }
   ],
   "source": [
    "cached_tokens"
   ]
  },
  {
   "cell_type": "code",
   "execution_count": 72,
   "id": "56e44d61-b947-4209-87a0-8610c163bc8d",
   "metadata": {},
   "outputs": [
    {
     "data": {
      "text/plain": [
       "1.3959924999999997"
      ]
     },
     "execution_count": 72,
     "metadata": {},
     "output_type": "execute_result"
    }
   ],
   "source": [
    "input_tokens * (10**-6) * 1.25"
   ]
  },
  {
   "cell_type": "code",
   "execution_count": 73,
   "id": "eaf2ac1d-b92b-4f98-ae26-f167fe8fe4e0",
   "metadata": {},
   "outputs": [
    {
     "data": {
      "text/plain": [
       "0.381254"
      ]
     },
     "execution_count": 73,
     "metadata": {},
     "output_type": "execute_result"
    }
   ],
   "source": [
    "cached_tokens * (10**-6) * 0.125"
   ]
  },
  {
   "cell_type": "code",
   "execution_count": 69,
   "id": "88c18fbf",
   "metadata": {},
   "outputs": [
    {
     "data": {
      "text/plain": [
       "0.002233588"
      ]
     },
     "execution_count": 69,
     "metadata": {},
     "output_type": "execute_result"
    }
   ],
   "source": [
    "embedding_tokens = novel_tokens\n",
    "embedding_cost = embedding_tokens * (10**-6) * 0.002\n",
    "embedding_cost"
   ]
  },
  {
   "cell_type": "code",
   "execution_count": null,
   "id": "a7ee94d0",
   "metadata": {},
   "outputs": [],
   "source": []
  }
 ],
 "metadata": {
  "kernelspec": {
   "display_name": "Python 3",
   "language": "python",
   "name": "python3"
  },
  "language_info": {
   "codemirror_mode": {
    "name": "ipython",
    "version": 3
   },
   "file_extension": ".py",
   "mimetype": "text/x-python",
   "name": "python",
   "nbconvert_exporter": "python",
   "pygments_lexer": "ipython3",
   "version": "3.12.0"
  }
 },
 "nbformat": 4,
 "nbformat_minor": 5
}
